{
  "nbformat": 4,
  "nbformat_minor": 0,
  "metadata": {
    "colab": {
      "name": "Tests_translate.ipynb",
      "provenance": [],
      "collapsed_sections": [],
      "authorship_tag": "ABX9TyNEItzUwZYUewuG91CCLSgE",
      "include_colab_link": true
    },
    "kernelspec": {
      "name": "python3",
      "display_name": "Python 3"
    }
  },
  "cells": [
    {
      "cell_type": "markdown",
      "metadata": {
        "id": "view-in-github",
        "colab_type": "text"
      },
      "source": [
        "<a href=\"https://colab.research.google.com/github/elodienilane/ifage-IA/blob/master/Tests_translate.ipynb\" target=\"_parent\"><img src=\"https://colab.research.google.com/assets/colab-badge.svg\" alt=\"Open In Colab\"/></a>"
      ]
    },
    {
      "cell_type": "markdown",
      "metadata": {
        "id": "-DrahLLlZpvn",
        "colab_type": "text"
      },
      "source": [
        "Import ParlAI"
      ]
    },
    {
      "cell_type": "code",
      "metadata": {
        "id": "zr03PayOE1C5",
        "colab_type": "code",
        "colab": {}
      },
      "source": [
        "#parlai\n",
        "#git clone https://github.com/facebookresearch/ParlAI.git\n",
        "#cd ParlAI; python setup.py develop\n",
        "\n",
        "#python -m parlai.scripts.display_data -t personality_captions"
      ],
      "execution_count": 0,
      "outputs": []
    },
    {
      "cell_type": "markdown",
      "metadata": {
        "id": "MZweYVU3JYRj",
        "colab_type": "text"
      },
      "source": [
        "Load file in Google Drive"
      ]
    },
    {
      "cell_type": "code",
      "metadata": {
        "id": "23ANAj7YJWtM",
        "colab_type": "code",
        "outputId": "ce60b222-5340-4be1-f2ad-dd44e49389a0",
        "colab": {
          "base_uri": "https://localhost:8080/",
          "height": 68
        }
      },
      "source": [
        "#fichier à importer chez moi dans : C:\\Users\\ElodieNilane\\Documents\\IA\\ProjectTest\\ParlAI\\data\\personality_captions\n",
        "import os\n",
        "import codecs, json\n",
        "\n",
        "from google.colab import drive\n",
        "drive.mount('/content/drive')\n",
        "os.chdir(\"/content/drive/My Drive/Colab Notebooks/Project/ParlAI Test/ParlAI/data/personality_captions/\")\n",
        "#voir ce qu'il y a dans le drive\n",
        "#!ls \"/content/drive/My Drive/Colab Notebooks/Project/ParlAI Test/ParlAI/data/personality_captions/\"\n",
        "#os.listdir()"
      ],
      "execution_count": 129,
      "outputs": [
        {
          "output_type": "stream",
          "text": [
            "Drive already mounted at /content/drive; to attempt to forcibly remount, call drive.mount(\"/content/drive\", force_remount=True).\n",
            "dump2.json     personalities.json  test.json   val.json\n",
            "jp_train.json  personalities.txt   train.json\n"
          ],
          "name": "stdout"
        }
      ]
    },
    {
      "cell_type": "markdown",
      "metadata": {
        "id": "aIMtrE36ZtJn",
        "colab_type": "text"
      },
      "source": [
        "Translate text unit"
      ]
    },
    {
      "cell_type": "code",
      "metadata": {
        "id": "VRQhCZpaILfQ",
        "colab_type": "code",
        "colab": {}
      },
      "source": [
        "#googletrans : https://pypi.org/project/googletrans/\n",
        "\n",
        "#!pip install googletrans\n",
        "#!pip install translate\n",
        "\n",
        "from googletrans import Translator as GoogleTranslator\n",
        "\n",
        "#Avec la librairie de Google : IP bloquée après trop de requête\n",
        "def translate_google(text = 'hello world', source_lng = 'en', dest_lng = 'de'):\n",
        "  translator = GoogleTranslator()\n",
        "  result = translator.translate(text, dest=dest_lng)\n",
        "  return result\n",
        "\n",
        "#Avec une autre librairie de traductions : https://pypi.org/project/translate/\n",
        "from translate import Translator\n",
        "def translate_lib(text = 'hello world', source_lng = 'en', dest_lng = 'de'):\n",
        "  translator = Translator(to_lang=dest_lng)\n",
        "  translation = translator.translate(text)\n",
        "  return translation"
      ],
      "execution_count": 0,
      "outputs": []
    },
    {
      "cell_type": "markdown",
      "metadata": {
        "id": "yqbZPu1jZ6XU",
        "colab_type": "text"
      },
      "source": [
        "Translate file"
      ]
    },
    {
      "cell_type": "code",
      "metadata": {
        "id": "WR-qPtUoV_Al",
        "colab_type": "code",
        "colab": {}
      },
      "source": [
        "import time\n",
        "\n",
        "def translate_file(source_file_path, dest_file_path, source_lng, dest_lng):\n",
        "  data = \"\"\n",
        "\n",
        "  with codecs.open(source_file_path, 'r', 'utf8') as data_file:    \n",
        "      data = json.load(data_file)\n",
        "\n",
        "  j = 0\n",
        "  total = 0\n",
        "\n",
        "  for i in data:\n",
        "    for key in i:\n",
        "      if key==\"comment\":\n",
        "        if not i[key] is None:\n",
        "          i[key] = translate_google(i[key], source_lng, dest_lng).text # Google API\n",
        "          #i[key] = translate_lib(i[key], source_lng, dest_lng) # Other API\n",
        "    j = j + 1\n",
        "    total = total + 1\n",
        "    #avoid being blocked by Google servers\n",
        "    if j == 10:\n",
        "      time.sleep(15)\n",
        "      j = 0\n",
        "\n",
        "  print('Total : ' + total)\n",
        "  with codecs.open(dest_file_path, 'w', 'utf8') as f:\n",
        "      json.dump(data, f)"
      ],
      "execution_count": 0,
      "outputs": []
    },
    {
      "cell_type": "markdown",
      "metadata": {
        "id": "Si_xvEz7aPUh",
        "colab_type": "text"
      },
      "source": [
        "Call procedure on train/validation/test data"
      ]
    },
    {
      "cell_type": "code",
      "metadata": {
        "id": "LZfM-CM2KqIv",
        "colab_type": "code",
        "colab": {}
      },
      "source": [
        "translate_file(\"train.json\", 'de_train.json', 'en', 'de')"
      ],
      "execution_count": 0,
      "outputs": []
    },
    {
      "cell_type": "code",
      "metadata": {
        "id": "6I__2tYwangu",
        "colab_type": "code",
        "colab": {}
      },
      "source": [
        "translate_file(\"val.json\", 'de_val.json', 'en', 'de')"
      ],
      "execution_count": 0,
      "outputs": []
    },
    {
      "cell_type": "code",
      "metadata": {
        "id": "UOMmUcMea2CQ",
        "colab_type": "code",
        "colab": {}
      },
      "source": [
        "translate_file(\"test.json\", 'de_test.json', 'en', 'de')"
      ],
      "execution_count": 0,
      "outputs": []
    },
    {
      "cell_type": "code",
      "metadata": {
        "id": "ctExm422aV28",
        "colab_type": "code",
        "colab": {}
      },
      "source": [
        "#Other stuff\n",
        "\n",
        "#translations = translator.translate(['The quick brown fox', 'jumps over', 'the lazy dog'], dest='de')\n",
        "#for translation in translations:\n",
        "#  print(translation.origin, ' -> ', translation.text)"
      ],
      "execution_count": 0,
      "outputs": []
    }
  ]
}